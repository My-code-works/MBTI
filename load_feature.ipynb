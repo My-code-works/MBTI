{
 "cells": [
  {
   "cell_type": "code",
   "execution_count": 12,
   "metadata": {},
   "outputs": [],
   "source": [
    "import pickle, os\n",
    "from bert_utils import get_all_features\n",
    "from utils import *"
   ]
  },
  {
   "cell_type": "code",
   "execution_count": 13,
   "metadata": {},
   "outputs": [
    {
     "name": "stdout",
     "output_type": "stream",
     "text": [
      "114975 114975 114975\n"
     ]
    }
   ],
   "source": [
    "train_texts, train_tags, train_rawtags = load_train_data()\n",
    "print(len(train_texts), len(train_tags), len(train_rawtags))"
   ]
  },
  {
   "cell_type": "code",
   "execution_count": 14,
   "metadata": {},
   "outputs": [],
   "source": [
    "BERT_BASE = os.path.join(os.getcwd(), 'bert/bert_model/uncased_L-12_H-768_A-12')\n",
    "\n",
    "bert_config_file = os.path.join(BERT_BASE, 'bert_config.json')\n",
    "vocab_file = os.path.join(BERT_BASE, 'vocab.txt')\n",
    "bert_checkpoint = os.path.join(BERT_BASE, 'bert_model.ckpt')"
   ]
  },
  {
   "cell_type": "code",
   "execution_count": 16,
   "metadata": {},
   "outputs": [
    {
     "name": "stdout",
     "output_type": "stream",
     "text": [
      "load\n",
      "save\n",
      "load\n"
     ]
    },
    {
     "ename": "TypeError",
     "evalue": "Required argument 'file' (pos 2) not found",
     "output_type": "error",
     "traceback": [
      "\u001b[0;31m---------------------------------------------------------------------------\u001b[0m",
      "\u001b[0;31mTypeError\u001b[0m                                 Traceback (most recent call last)",
      "\u001b[0;32m<ipython-input-16-73d346c1dc1c>\u001b[0m in \u001b[0;36m<module>\u001b[0;34m\u001b[0m\n\u001b[1;32m     10\u001b[0m     \u001b[0mprint\u001b[0m\u001b[0;34m(\u001b[0m\u001b[0;34m'load'\u001b[0m\u001b[0;34m)\u001b[0m\u001b[0;34m\u001b[0m\u001b[0;34m\u001b[0m\u001b[0m\n\u001b[1;32m     11\u001b[0m \u001b[0;32mwith\u001b[0m \u001b[0mopen\u001b[0m\u001b[0;34m(\u001b[0m\u001b[0;34m'save_model/feature_1.pk'\u001b[0m\u001b[0;34m,\u001b[0m \u001b[0;34m'wb'\u001b[0m\u001b[0;34m)\u001b[0m \u001b[0;32mas\u001b[0m \u001b[0mf\u001b[0m\u001b[0;34m:\u001b[0m\u001b[0;34m\u001b[0m\u001b[0;34m\u001b[0m\u001b[0m\n\u001b[0;32m---> 12\u001b[0;31m     \u001b[0mpickle\u001b[0m\u001b[0;34m.\u001b[0m\u001b[0mdump\u001b[0m\u001b[0;34m(\u001b[0m\u001b[0mfeature\u001b[0m\u001b[0;34m)\u001b[0m\u001b[0;34m\u001b[0m\u001b[0;34m\u001b[0m\u001b[0m\n\u001b[0m\u001b[1;32m     13\u001b[0m     \u001b[0mprint\u001b[0m\u001b[0;34m(\u001b[0m\u001b[0;34m'save'\u001b[0m\u001b[0;34m)\u001b[0m\u001b[0;34m\u001b[0m\u001b[0;34m\u001b[0m\u001b[0m\n",
      "\u001b[0;31mTypeError\u001b[0m: Required argument 'file' (pos 2) not found"
     ]
    }
   ],
   "source": [
    "with open('save_model/feature_0.pk', 'rb') as f:\n",
    "    feature = pickle.load(f)\n",
    "    print('load')\n",
    "with open('save_model/feature_0.pk', 'wb') as f:\n",
    "    pickle.dump(feature[0:5000], f)\n",
    "    print('save')\n",
    "with open('save_model/feature_1.pk', 'rb') as f:\n",
    "    feature = feature[5000:]\n",
    "    feature += pickle.load(f)\n",
    "    print('load')"
   ]
  },
  {
   "cell_type": "code",
   "execution_count": 18,
   "metadata": {},
   "outputs": [
    {
     "name": "stdout",
     "output_type": "stream",
     "text": [
      "5000\n",
      "save\n"
     ]
    }
   ],
   "source": [
    "print(len(feature))\n",
    "with open('save_model/feature_1.pk', 'wb') as f:\n",
    "    pickle.dump(feature, f)\n",
    "    print('save')"
   ]
  },
  {
   "cell_type": "code",
   "execution_count": null,
   "metadata": {},
   "outputs": [
    {
     "name": "stdout",
     "output_type": "stream",
     "text": [
      "Total 205822 paragraphs\n",
      "WARNING:tensorflow:Estimator's model_fn (<function model_fn_builder.<locals>.model_fn at 0x7fb27a9de9d8>) includes params argument, but params are not passed to Estimator.\n",
      "WARNING:tensorflow:Using temporary folder as model directory: /tmp/tmpdk2gjx6u\n",
      "WARNING:tensorflow:eval_on_tpu ignored because use_tpu is False.\n",
      "0 ...\n",
      "2000 ...\n",
      "4000 ...\n",
      "6000 ...\n",
      "8000 ...\n",
      "10000 ...\n",
      "12000 ...\n",
      "14000 ...\n",
      "16000 ...\n",
      "18000 ...\n",
      "20000 ...\n",
      "22000 ...\n",
      "24000 ...\n",
      "26000 ...\n",
      "28000 ...\n",
      "30000 ...\n",
      "32000 ...\n",
      "34000 ...\n",
      "36000 ...\n",
      "38000 ...\n",
      "40000 ...\n",
      "42000 ...\n",
      "44000 ...\n",
      "46000 ...\n",
      "48000 ...\n",
      "50000 ...\n",
      "52000 ...\n",
      "54000 ...\n",
      "56000 ...\n",
      "58000 ...\n",
      "60000 ...\n",
      "62000 ...\n",
      "64000 ...\n",
      "66000 ...\n",
      "68000 ...\n",
      "70000 ...\n",
      "72000 ...\n",
      "74000 ...\n",
      "76000 ...\n",
      "78000 ...\n",
      "80000 ...\n",
      "82000 ...\n",
      "84000 ...\n",
      "86000 ...\n",
      "88000 ...\n",
      "90000 ...\n",
      "92000 ...\n",
      "94000 ...\n",
      "96000 ...\n",
      "98000 ...\n",
      "100000 ...\n",
      "102000 ...\n",
      "104000 ...\n",
      "106000 ...\n",
      "108000 ...\n",
      "110000 ...\n",
      "112000 ...\n",
      "114000 ...\n",
      "116000 ...\n",
      "118000 ...\n",
      "120000 ...\n",
      "122000 ...\n",
      "124000 ...\n",
      "126000 ...\n",
      "128000 ...\n",
      "130000 ...\n",
      "132000 ...\n",
      "134000 ...\n",
      "136000 ...\n",
      "138000 ...\n",
      "140000 ...\n",
      "142000 ...\n",
      "144000 ...\n",
      "146000 ...\n",
      "148000 ...\n",
      "150000 ...\n",
      "152000 ...\n",
      "154000 ...\n",
      "156000 ...\n",
      "158000 ...\n",
      "160000 ...\n",
      "162000 ...\n",
      "164000 ...\n",
      "166000 ...\n",
      "168000 ...\n",
      "170000 ...\n",
      "172000 ...\n",
      "174000 ...\n",
      "176000 ...\n",
      "178000 ...\n",
      "180000 ...\n",
      "182000 ...\n",
      "184000 ...\n",
      "186000 ...\n",
      "188000 ...\n",
      "190000 ...\n",
      "192000 ...\n"
     ]
    }
   ],
   "source": [
    "for i in range (12, 20):\n",
    "    feature = get_all_features(train_texts[i*5000:(i+1)*5000], bert_config_file, vocab_file, bert_checkpoint)\n",
    "    print(len(feature), i)\n",
    "    with open('save_model/feature_%d.pk' % i, 'wb') as f:\n",
    "        pickle.dump(feature, f)"
   ]
  },
  {
   "cell_type": "code",
   "execution_count": null,
   "metadata": {
    "collapsed": true
   },
   "outputs": [],
   "source": []
  }
 ],
 "metadata": {
  "kernelspec": {
   "display_name": "tfpy3",
   "language": "python",
   "name": "tfpy3"
  },
  "language_info": {
   "codemirror_mode": {
    "name": "ipython",
    "version": 3
   },
   "file_extension": ".py",
   "mimetype": "text/x-python",
   "name": "python",
   "nbconvert_exporter": "python",
   "pygments_lexer": "ipython3",
   "version": "3.6.8"
  }
 },
 "nbformat": 4,
 "nbformat_minor": 2
}
