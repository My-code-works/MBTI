{
 "cells": [
  {
   "cell_type": "code",
   "execution_count": 1,
   "metadata": {
    "scrolled": true
   },
   "outputs": [
    {
     "name": "stderr",
     "output_type": "stream",
     "text": [
      "Using TensorFlow backend.\n"
     ]
    }
   ],
   "source": [
    "from keras.models import Sequential, Input\n",
    "from keras.layers import LSTM, Embedding, Dense, TimeDistributed, Dropout, Bidirectional\n",
    "from keras_contrib.layers.crf import CRF\n",
    "from keras_contrib.utils import save_load_utils\n",
    "from keras_contrib.metrics import crf_accuracy\n",
    "from keras_contrib.losses import crf_loss\n",
    "from keras.utils import to_categorical\n",
    "import pandas as pd\n",
    "import numpy as np\n",
    "import matplotlib.pyplot as plt\n",
    "from keras.models import load_model\n",
    "from keras import backend as K\n",
    "import tensorflow as tf\n",
    "import pickle, os"
   ]
  },
  {
   "cell_type": "code",
   "execution_count": 2,
   "metadata": {},
   "outputs": [],
   "source": [
    "BERT_BASE = os.path.join(os.getcwd(), 'bert/bert_model/uncased_L-12_H-768_A-12')"
   ]
  },
  {
   "cell_type": "code",
   "execution_count": 3,
   "metadata": {},
   "outputs": [],
   "source": [
    "from utils import *"
   ]
  },
  {
   "cell_type": "code",
   "execution_count": 4,
   "metadata": {},
   "outputs": [],
   "source": [
    "class LSTMmodel:\n",
    "    def __init__(self, input_length, para_emb_dim, num_tags, hidden_dim=200, dropout=0.5):\n",
    "        self.num_tags = num_tags\n",
    "        self.model = Sequential()\n",
    "        self.model.add(Bidirectional(LSTM(hidden_dim, return_sequences=True), input_shape=(input_length, para_emb_dim)))\n",
    "        self.model.add(Dropout(dropout))\n",
    "        # self.model.add(Bidirectional(LSTM(hidden_dim, return_sequences=True), input_shape=(input_length, para_emb_dim)))\n",
    "        # self.model.add(Dropout(dropout))\n",
    "        self.model.add(TimeDistributed(Dense(self.num_tags)))\n",
    "        crf = CRF(self.num_tags)\n",
    "        self.model.add(crf)\n",
    "        self.model.compile('rmsprop', loss=crf_loss, metrics=[crf_accuracy])\n",
    "    \n",
    "    def save_model(self, filepath):\n",
    "        save_load_utils.save_all_weights(self.model, filepath)\n",
    "    \n",
    "    def restore_model(self, filepath):\n",
    "        save_load_utils.load_all_weights(self.model, filepath)\n",
    "        \n",
    "    def train(self, trainX, trainY, batch_size=32, epochs=10, validation_split=0.1, verbose=1):\n",
    "        return self.model.fit(trainX, np.array(trainY), batch_size=batch_size, epochs=epochs, \n",
    "                             validation_split=validation_split, verbose=verbose)\n",
    "    \n",
    "    @staticmethod\n",
    "    def myloss(y_true, y_pred):   \n",
    "        y_pred /= tf.reduce_sum(y_pred, -1, True)\n",
    "        # manual computation of crossentropy\n",
    "        y_pred = K.clip(y_pred, K.epsilon(), 1. - K.epsilon())\n",
    "        return -tf.reduce_sum(y_true * tf.log(y_pred), -1)\n",
    "        "
   ]
  },
  {
   "cell_type": "code",
   "execution_count": 5,
   "metadata": {},
   "outputs": [
    {
     "name": "stdout",
     "output_type": "stream",
     "text": [
      "114975 114975 114975\n"
     ]
    }
   ],
   "source": [
    "# from Dataprocessor import Dataprocessor\n",
    "\n",
    "# filelist = [('data/%d.json' % i) for i in range(500)]\n",
    "# processor = Dataprocessor()\n",
    "# train_texts, train_tags, train_rawtags = processor.load_data(filelist)\n",
    "\n",
    "# save_train_data(train_texts, train_tags, train_rawtags)\n",
    "train_texts, train_tags, train_rawtags = load_train_data()\n",
    "print(len(train_texts), len(train_tags), len(train_rawtags))"
   ]
  },
  {
   "cell_type": "code",
   "execution_count": 6,
   "metadata": {},
   "outputs": [
    {
     "name": "stdout",
     "output_type": "stream",
     "text": [
      "{1: 718948, 2: 211986, 10: 2908756, 11: 708325, 6: 105894, 3: 15923, 7: 6231, 4: 344, 8: 201, 5: 55, 9: 2}\n",
      "{1: 6.0, 2: 22.0, 10: 1.0, 11: 6.0, 6: 44.0, 3: 100.0, 7: 100.0, 4: 100.0, 8: 100.0, 5: 100.0, 9: 100.0, 0: 0.0}\n"
     ]
    }
   ],
   "source": [
    "count_dic = {}\n",
    "_sum = 0\n",
    "for tags in train_tags:\n",
    "    for t in tags:\n",
    "        if t not in count_dic:\n",
    "            count_dic[t] = 1\n",
    "        else:\n",
    "            count_dic[t] += 1\n",
    "        _sum += 1\n",
    "\n",
    "print(count_dic)\n",
    "\n",
    "weight_dic = {}\n",
    "for tag in count_dic:\n",
    "    weight_dic[tag] = float(int(min(1 / (count_dic[tag] / _sum), 100)))\n",
    "weight_dic[0] = 0.0\n",
    "print(weight_dic)"
   ]
  },
  {
   "cell_type": "code",
   "execution_count": 7,
   "metadata": {},
   "outputs": [],
   "source": [
    "from bert_utils import BERTmodel\n",
    "\n",
    "bert_config_file = os.path.join(BERT_BASE, 'bert_config.json')\n",
    "vocab_file = os.path.join(BERT_BASE, 'vocab.txt')\n",
    "bert_checkpoint = os.path.join(BERT_BASE, 'bert_model.ckpt')\n",
    "    \n",
    "# feature = get_all_features(train_texts[:], bert_config_file, vocab_file, bert_checkpoint)\n",
    "# with open('save_model/feature_1.pk', 'rb') as f:\n",
    "#     feature = pickle.load(f)\n",
    "# print(len(feature))\n"
   ]
  },
  {
   "cell_type": "code",
   "execution_count": 15,
   "metadata": {},
   "outputs": [
    {
     "name": "stdout",
     "output_type": "stream",
     "text": [
      "_________________________________________________________________\n",
      "Layer (type)                 Output Shape              Param #   \n",
      "=================================================================\n",
      "bidirectional_3 (Bidirection (None, 100, 400)          1550400   \n",
      "_________________________________________________________________\n",
      "dropout_3 (Dropout)          (None, 100, 400)          0         \n",
      "_________________________________________________________________\n",
      "time_distributed_3 (TimeDist (None, 100, 12)           4812      \n",
      "_________________________________________________________________\n",
      "crf_3 (CRF)                  (None, 100, 12)           324       \n",
      "=================================================================\n",
      "Total params: 1,555,536\n",
      "Trainable params: 1,555,536\n",
      "Non-trainable params: 0\n",
      "_________________________________________________________________\n"
     ]
    }
   ],
   "source": [
    "INPUT_LENGTH = 100\n",
    "PARAGRAPH_EMB_DIM = 768\n",
    "NUM_TAGS = 12\n",
    "\n",
    "model = LSTMmodel(INPUT_LENGTH, PARAGRAPH_EMB_DIM, NUM_TAGS)\n",
    "model.model.summary()"
   ]
  },
  {
   "cell_type": "code",
   "execution_count": 9,
   "metadata": {},
   "outputs": [],
   "source": [
    "def get_train(i):\n",
    "    with open('save_model/feature_%d.pk' % i, 'rb') as f:\n",
    "        feature = pickle.load(f)\n",
    "    \n",
    "    tags = train_tags[i*5000:(i+1)*5000]\n",
    "    \n",
    "    X, rawY = [], [] # X is 3D: article, paragraph, embedding; Y is 2D: article, paragraph\n",
    "    for f, t in zip(feature, tags):\n",
    "        while len(f) < INPUT_LENGTH:\n",
    "            f.append(np.zeros(PARAGRAPH_EMB_DIM))\n",
    "        while len(t) < INPUT_LENGTH:\n",
    "            t.append(0)\n",
    "        f = f[0:INPUT_LENGTH]\n",
    "        t = t[0:INPUT_LENGTH]\n",
    "        X.append(f)\n",
    "        rawY.append(t)\n",
    "    \n",
    "    Y = [to_categorical(y, num_classes=NUM_TAGS) for y in rawY] # Y is now 3D\n",
    "    return X, Y\n",
    "\n",
    "        \n",
    "def get_test(i):\n",
    "    with open('save_model/feature_%d.pk' % i, 'rb') as f:\n",
    "        feature = pickle.load(f)\n",
    "    tags = train_tags[i*5000:(i+1)*5000]\n",
    "    X, rawY = [], [] # X is 3D: article, paragraph, embedding; Y is 2D: article, paragraph\n",
    "    for f, t in zip(feature, tags):\n",
    "        while len(f) < INPUT_LENGTH:\n",
    "            f.append(np.zeros(PARAGRAPH_EMB_DIM))\n",
    "        while len(t) < INPUT_LENGTH:\n",
    "            t.append(0)\n",
    "        f = f[0:INPUT_LENGTH]\n",
    "        t = t[0:INPUT_LENGTH]\n",
    "        X.append(f)\n",
    "        rawY.append(t)\n",
    "    \n",
    "    Y = [to_categorical(y, num_classes=NUM_TAGS) for y in rawY] # Y is now 3D\n",
    "    return X, Y"
   ]
  },
  {
   "cell_type": "code",
   "execution_count": 10,
   "metadata": {},
   "outputs": [],
   "source": [
    "testPickleID = 12\n",
    "testX, testY = get_test(testPickleID)\n",
    "def test_accuracy(X=testX, Y=testY):\n",
    "    # Predict on test\n",
    "    test_pred = model.model.predict(np.array(X), verbose=1)\n",
    "    truecnt = 0\n",
    "    falsecnt = 0\n",
    "    _max = 0\n",
    "    _maxarg = 0\n",
    "    for (i, pred) in enumerate(test_pred):\n",
    "        tcnt = 0\n",
    "        fcnt = 0\n",
    "        for j, p in enumerate(pred):\n",
    "            if np.argmax(Y[i][j]) != 0:\n",
    "                if np.argmax(p) == np.argmax(Y[i][j]):\n",
    "                    tcnt += 1\n",
    "                else:\n",
    "                    fcnt += 1\n",
    "            else:\n",
    "                break\n",
    "        sample_acc = tcnt/(tcnt+fcnt) if tcnt+fcnt != 0 else 0\n",
    "        if sample_acc < 1 and sample_acc > _max and j >= 5 and j <= 20:\n",
    "            _max = sample_acc\n",
    "            _maxarg = i\n",
    "        truecnt += tcnt\n",
    "        falsecnt += fcnt\n",
    "        \n",
    "    acc = truecnt/(truecnt+falsecnt)\n",
    "    print('True: %d, False: %d, Acc: %f' % (truecnt, falsecnt, acc))\n",
    "    return acc, _max, _maxarg"
   ]
  },
  {
   "cell_type": "code",
   "execution_count": 11,
   "metadata": {},
   "outputs": [
    {
     "data": {
      "text/plain": [
       "'\\n# load data\\ntags = train_tags[6000:10000]\\nX, rawY = [], [] # X is 3D: article, paragraph, embedding; Y is 2D: article, paragraph\\nfor f, t in zip(feature, tags):\\n    while len(f) < INPUT_LENGTH:\\n        f.append(np.zeros(PARAGRAPH_EMB_DIM))\\n    while len(t) < INPUT_LENGTH:\\n        t.append(0)\\n    f = f[0:INPUT_LENGTH]\\n    t = t[0:INPUT_LENGTH]\\n    X.append(f)\\n    rawY.append(t)\\n    \\nY = [to_categorical(y, num_classes=NUM_TAGS) for y in rawY] # Y is now 3D\\n\\ndata_size = len(X)\\ntrain_size = int(data_size * 0.9)\\ntrainX, trainY = X[:train_size], Y[:train_size]\\ntestX, testY = X[train_size:], Y[train_size:]\\n'"
      ]
     },
     "execution_count": 11,
     "metadata": {},
     "output_type": "execute_result"
    }
   ],
   "source": [
    "'''\n",
    "# load data\n",
    "tags = train_tags[6000:10000]\n",
    "X, rawY = [], [] # X is 3D: article, paragraph, embedding; Y is 2D: article, paragraph\n",
    "for f, t in zip(feature, tags):\n",
    "    while len(f) < INPUT_LENGTH:\n",
    "        f.append(np.zeros(PARAGRAPH_EMB_DIM))\n",
    "    while len(t) < INPUT_LENGTH:\n",
    "        t.append(0)\n",
    "    f = f[0:INPUT_LENGTH]\n",
    "    t = t[0:INPUT_LENGTH]\n",
    "    X.append(f)\n",
    "    rawY.append(t)\n",
    "    \n",
    "Y = [to_categorical(y, num_classes=NUM_TAGS) for y in rawY] # Y is now 3D\n",
    "\n",
    "data_size = len(X)\n",
    "train_size = int(data_size * 0.9)\n",
    "trainX, trainY = X[:train_size], Y[:train_size]\n",
    "testX, testY = X[train_size:], Y[train_size:]\n",
    "'''"
   ]
  },
  {
   "cell_type": "code",
   "execution_count": 16,
   "metadata": {},
   "outputs": [
    {
     "name": "stdout",
     "output_type": "stream",
     "text": [
      "Train on 4500 samples, validate on 500 samples\n",
      "Epoch 1/2\n",
      "4500/4500 [==============================] - 69s 15ms/step - loss: 0.3834 - crf_accuracy: 0.8596 - val_loss: 0.2941 - val_crf_accuracy: 0.8845\n",
      "Epoch 2/2\n",
      "4500/4500 [==============================] - 66s 15ms/step - loss: 0.2832 - crf_accuracy: 0.8822 - val_loss: 0.2789 - val_crf_accuracy: 0.8797\n",
      "5000/5000 [==============================] - 28s 6ms/step\n",
      "True: 112444, False: 61417, Acc: 0.646747\n",
      "Train on 4500 samples, validate on 500 samples\n",
      "Epoch 1/2\n",
      "4500/4500 [==============================] - 66s 15ms/step - loss: 0.2609 - crf_accuracy: 0.8850 - val_loss: 0.2307 - val_crf_accuracy: 0.8957\n",
      "Epoch 2/2\n",
      "4500/4500 [==============================] - 66s 15ms/step - loss: 0.2406 - crf_accuracy: 0.8894 - val_loss: 0.2118 - val_crf_accuracy: 0.9028\n",
      "5000/5000 [==============================] - 28s 6ms/step\n",
      "True: 121510, False: 52351, Acc: 0.698892\n",
      "Train on 4500 samples, validate on 500 samples\n",
      "Epoch 1/2\n",
      "4500/4500 [==============================] - 66s 15ms/step - loss: 0.2300 - crf_accuracy: 0.8901 - val_loss: 0.2217 - val_crf_accuracy: 0.8945\n",
      "Epoch 2/2\n",
      "4500/4500 [==============================] - 66s 15ms/step - loss: 0.2172 - crf_accuracy: 0.8925 - val_loss: 0.2140 - val_crf_accuracy: 0.8907\n",
      "5000/5000 [==============================] - 27s 5ms/step\n",
      "True: 120800, False: 53061, Acc: 0.694808\n",
      "Train on 4500 samples, validate on 500 samples\n",
      "Epoch 1/2\n",
      "4500/4500 [==============================] - 66s 15ms/step - loss: 0.2055 - crf_accuracy: 0.8955 - val_loss: 0.1942 - val_crf_accuracy: 0.8974\n",
      "Epoch 2/2\n",
      "4500/4500 [==============================] - 67s 15ms/step - loss: 0.1956 - crf_accuracy: 0.8968 - val_loss: 0.1889 - val_crf_accuracy: 0.8969\n",
      "5000/5000 [==============================] - 27s 5ms/step\n",
      "True: 121034, False: 52827, Acc: 0.696154\n",
      "Train on 4500 samples, validate on 500 samples\n",
      "Epoch 1/2\n",
      "4500/4500 [==============================] - 66s 15ms/step - loss: 0.1923 - crf_accuracy: 0.8961 - val_loss: 0.1925 - val_crf_accuracy: 0.8923\n",
      "Epoch 2/2\n",
      "4500/4500 [==============================] - 67s 15ms/step - loss: 0.1846 - crf_accuracy: 0.8985 - val_loss: 0.1827 - val_crf_accuracy: 0.8964\n",
      "5000/5000 [==============================] - 28s 6ms/step\n",
      "True: 122763, False: 51098, Acc: 0.706099\n",
      "Train on 4500 samples, validate on 500 samples\n",
      "Epoch 1/2\n",
      "4500/4500 [==============================] - 67s 15ms/step - loss: 0.1853 - crf_accuracy: 0.8960 - val_loss: 0.1969 - val_crf_accuracy: 0.8849\n",
      "Epoch 2/2\n",
      "4500/4500 [==============================] - 67s 15ms/step - loss: 0.1791 - crf_accuracy: 0.8974 - val_loss: 0.1833 - val_crf_accuracy: 0.8931\n",
      "5000/5000 [==============================] - 27s 5ms/step\n",
      "True: 123716, False: 50145, Acc: 0.711580\n",
      "Train on 4500 samples, validate on 500 samples\n",
      "Epoch 1/2\n",
      "4500/4500 [==============================] - 67s 15ms/step - loss: 0.1768 - crf_accuracy: 0.8972 - val_loss: 0.1774 - val_crf_accuracy: 0.8957\n",
      "Epoch 2/2\n",
      "4500/4500 [==============================] - 66s 15ms/step - loss: 0.1718 - crf_accuracy: 0.8979 - val_loss: 0.1716 - val_crf_accuracy: 0.8945\n",
      "5000/5000 [==============================] - 27s 5ms/step\n",
      "True: 121692, False: 52169, Acc: 0.699938\n",
      "Train on 4500 samples, validate on 500 samples\n",
      "Epoch 1/2\n",
      "4500/4500 [==============================] - 67s 15ms/step - loss: 0.1732 - crf_accuracy: 0.8964 - val_loss: 0.1596 - val_crf_accuracy: 0.9019\n",
      "Epoch 2/2\n",
      "4500/4500 [==============================] - 66s 15ms/step - loss: 0.1673 - crf_accuracy: 0.8981 - val_loss: 0.1587 - val_crf_accuracy: 0.9011\n",
      "5000/5000 [==============================] - 27s 5ms/step\n",
      "True: 123488, False: 50373, Acc: 0.710269\n",
      "Train on 4500 samples, validate on 500 samples\n",
      "Epoch 1/2\n",
      "4500/4500 [==============================] - 66s 15ms/step - loss: 0.1704 - crf_accuracy: 0.8953 - val_loss: 0.1578 - val_crf_accuracy: 0.8971\n",
      "Epoch 2/2\n",
      "4500/4500 [==============================] - 66s 15ms/step - loss: 0.1655 - crf_accuracy: 0.8965 - val_loss: 0.1541 - val_crf_accuracy: 0.9015\n",
      "5000/5000 [==============================] - 28s 6ms/step\n",
      "True: 123420, False: 50441, Acc: 0.709877\n",
      "Train on 4500 samples, validate on 500 samples\n",
      "Epoch 1/2\n",
      "4500/4500 [==============================] - 67s 15ms/step - loss: 0.1601 - crf_accuracy: 0.8978 - val_loss: 0.1569 - val_crf_accuracy: 0.8979\n",
      "Epoch 2/2\n",
      "4500/4500 [==============================] - 66s 15ms/step - loss: 0.1552 - crf_accuracy: 0.9000 - val_loss: 0.1573 - val_crf_accuracy: 0.8997\n",
      "5000/5000 [==============================] - 27s 5ms/step\n",
      "True: 123787, False: 50074, Acc: 0.711988\n",
      "Train on 4500 samples, validate on 500 samples\n",
      "Epoch 1/2\n",
      "4500/4500 [==============================] - 66s 15ms/step - loss: 0.1593 - crf_accuracy: 0.8974 - val_loss: 0.1477 - val_crf_accuracy: 0.9052\n",
      "Epoch 2/2\n",
      "4500/4500 [==============================] - 66s 15ms/step - loss: 0.1547 - crf_accuracy: 0.8976 - val_loss: 0.1424 - val_crf_accuracy: 0.9050\n",
      "5000/5000 [==============================] - 27s 5ms/step\n",
      "True: 124900, False: 48961, Acc: 0.718390\n",
      "Train on 4500 samples, validate on 500 samples\n",
      "Epoch 1/2\n",
      "4500/4500 [==============================] - 66s 15ms/step - loss: 0.1547 - crf_accuracy: 0.8977 - val_loss: 0.1554 - val_crf_accuracy: 0.8967\n",
      "Epoch 2/2\n",
      "4500/4500 [==============================] - 66s 15ms/step - loss: 0.1504 - crf_accuracy: 0.8987 - val_loss: 0.1561 - val_crf_accuracy: 0.8934\n",
      "5000/5000 [==============================] - 27s 5ms/step\n",
      "True: 123813, False: 50048, Acc: 0.712138\n",
      "Train on 4500 samples, validate on 500 samples\n",
      "Epoch 1/2\n",
      "4500/4500 [==============================] - 67s 15ms/step - loss: 0.1482 - crf_accuracy: 0.8995 - val_loss: 0.1304 - val_crf_accuracy: 0.9101\n",
      "Epoch 2/2\n",
      "4500/4500 [==============================] - 66s 15ms/step - loss: 0.1439 - crf_accuracy: 0.9009 - val_loss: 0.1276 - val_crf_accuracy: 0.9087\n",
      "5000/5000 [==============================] - 28s 6ms/step\n",
      "True: 125332, False: 48529, Acc: 0.720875\n",
      "Train on 4500 samples, validate on 500 samples\n",
      "Epoch 1/2\n",
      "4500/4500 [==============================] - 66s 15ms/step - loss: 0.1467 - crf_accuracy: 0.8987 - val_loss: 0.1444 - val_crf_accuracy: 0.8981\n",
      "Epoch 2/2\n",
      "4500/4500 [==============================] - 65s 15ms/step - loss: 0.1424 - crf_accuracy: 0.9000 - val_loss: 0.1437 - val_crf_accuracy: 0.8983\n",
      "5000/5000 [==============================] - 27s 5ms/step\n",
      "True: 125862, False: 47999, Acc: 0.723923\n",
      "Train on 4500 samples, validate on 500 samples\n",
      "Epoch 1/2\n",
      "4500/4500 [==============================] - 66s 15ms/step - loss: 0.1363 - crf_accuracy: 0.9019 - val_loss: 0.1402 - val_crf_accuracy: 0.8966\n",
      "Epoch 2/2\n",
      "4500/4500 [==============================] - 67s 15ms/step - loss: 0.1322 - crf_accuracy: 0.9035 - val_loss: 0.1328 - val_crf_accuracy: 0.9025\n",
      "5000/5000 [==============================] - 27s 5ms/step\n",
      "True: 125757, False: 48104, Acc: 0.723319\n",
      "Train on 4500 samples, validate on 500 samples\n",
      "Epoch 1/2\n",
      "4500/4500 [==============================] - 66s 15ms/step - loss: 0.1369 - crf_accuracy: 0.9000 - val_loss: 0.1297 - val_crf_accuracy: 0.9052\n",
      "Epoch 2/2\n",
      "4500/4500 [==============================] - 66s 15ms/step - loss: 0.1326 - crf_accuracy: 0.9023 - val_loss: 0.1277 - val_crf_accuracy: 0.9047\n",
      "5000/5000 [==============================] - 27s 5ms/step\n",
      "True: 125692, False: 48169, Acc: 0.722945\n",
      "Train on 4500 samples, validate on 500 samples\n",
      "Epoch 1/2\n",
      "4500/4500 [==============================] - 67s 15ms/step - loss: 0.1349 - crf_accuracy: 0.8998 - val_loss: 0.1179 - val_crf_accuracy: 0.9100\n",
      "Epoch 2/2\n",
      "4500/4500 [==============================] - 66s 15ms/step - loss: 0.1310 - crf_accuracy: 0.9017 - val_loss: 0.1163 - val_crf_accuracy: 0.9084\n",
      "5000/5000 [==============================] - 27s 5ms/step\n",
      "True: 126244, False: 47617, Acc: 0.726120\n",
      "Train on 4500 samples, validate on 500 samples\n",
      "Epoch 1/2\n",
      "4500/4500 [==============================] - 66s 15ms/step - loss: 0.1326 - crf_accuracy: 0.9001 - val_loss: 0.1311 - val_crf_accuracy: 0.9006\n",
      "Epoch 2/2\n",
      "4500/4500 [==============================] - 66s 15ms/step - loss: 0.1289 - crf_accuracy: 0.9008 - val_loss: 0.1292 - val_crf_accuracy: 0.9005\n",
      "5000/5000 [==============================] - 27s 5ms/step\n",
      "True: 125327, False: 48534, Acc: 0.720846\n",
      "Train on 4500 samples, validate on 500 samples\n",
      "Epoch 1/2\n"
     ]
    },
    {
     "name": "stdout",
     "output_type": "stream",
     "text": [
      "4500/4500 [==============================] - 67s 15ms/step - loss: 0.1251 - crf_accuracy: 0.9023 - val_loss: 0.1190 - val_crf_accuracy: 0.9031\n",
      "Epoch 2/2\n",
      "4500/4500 [==============================] - 66s 15ms/step - loss: 0.1209 - crf_accuracy: 0.9038 - val_loss: 0.1150 - val_crf_accuracy: 0.9091\n",
      "5000/5000 [==============================] - 27s 5ms/step\n",
      "True: 125880, False: 47981, Acc: 0.724027\n",
      "Train on 4500 samples, validate on 500 samples\n",
      "Epoch 1/2\n",
      "4500/4500 [==============================] - 66s 15ms/step - loss: 0.1226 - crf_accuracy: 0.9028 - val_loss: 0.1210 - val_crf_accuracy: 0.9027\n",
      "Epoch 2/2\n",
      "4500/4500 [==============================] - 66s 15ms/step - loss: 0.1189 - crf_accuracy: 0.9045 - val_loss: 0.1243 - val_crf_accuracy: 0.9030\n",
      "5000/5000 [==============================] - 27s 5ms/step\n",
      "True: 126151, False: 47710, Acc: 0.725585\n",
      "Train on 4500 samples, validate on 500 samples\n",
      "Epoch 1/2\n",
      "4500/4500 [==============================] - 66s 15ms/step - loss: 0.1222 - crf_accuracy: 0.9012 - val_loss: 0.1299 - val_crf_accuracy: 0.8927\n",
      "Epoch 2/2\n",
      "4500/4500 [==============================] - 65s 15ms/step - loss: 0.1177 - crf_accuracy: 0.9025 - val_loss: 0.1258 - val_crf_accuracy: 0.8969\n",
      "5000/5000 [==============================] - 27s 5ms/step\n",
      "True: 126318, False: 47543, Acc: 0.726546\n",
      "Train on 4500 samples, validate on 500 samples\n",
      "Epoch 1/2\n",
      "4500/4500 [==============================] - 67s 15ms/step - loss: 0.1182 - crf_accuracy: 0.9016 - val_loss: 0.1151 - val_crf_accuracy: 0.9027\n",
      "Epoch 2/2\n",
      "4500/4500 [==============================] - 66s 15ms/step - loss: 0.1143 - crf_accuracy: 0.9029 - val_loss: 0.1165 - val_crf_accuracy: 0.9019\n",
      "5000/5000 [==============================] - 27s 5ms/step\n",
      "True: 126067, False: 47794, Acc: 0.725102\n",
      "Train on 4500 samples, validate on 500 samples\n",
      "Epoch 1/2\n",
      "4500/4500 [==============================] - 66s 15ms/step - loss: 0.1178 - crf_accuracy: 0.9008 - val_loss: 0.1059 - val_crf_accuracy: 0.9052\n",
      "Epoch 2/2\n",
      "4500/4500 [==============================] - 67s 15ms/step - loss: 0.1134 - crf_accuracy: 0.9025 - val_loss: 0.1039 - val_crf_accuracy: 0.9055\n",
      "5000/5000 [==============================] - 28s 6ms/step\n",
      "True: 125663, False: 48198, Acc: 0.722779\n",
      "Train on 4500 samples, validate on 500 samples\n",
      "Epoch 1/2\n",
      "4500/4500 [==============================] - 66s 15ms/step - loss: 0.1162 - crf_accuracy: 0.8997 - val_loss: 0.1033 - val_crf_accuracy: 0.9068\n",
      "Epoch 2/2\n",
      "4500/4500 [==============================] - 66s 15ms/step - loss: 0.1124 - crf_accuracy: 0.9009 - val_loss: 0.1009 - val_crf_accuracy: 0.9062\n",
      "5000/5000 [==============================] - 27s 5ms/step\n",
      "True: 126312, False: 47549, Acc: 0.726511\n",
      "Train on 4500 samples, validate on 500 samples\n",
      "Epoch 1/2\n",
      "4500/4500 [==============================] - 66s 15ms/step - loss: 0.1080 - crf_accuracy: 0.9028 - val_loss: 0.1050 - val_crf_accuracy: 0.9050\n",
      "Epoch 2/2\n",
      "4500/4500 [==============================] - 66s 15ms/step - loss: 0.1042 - crf_accuracy: 0.9042 - val_loss: 0.1050 - val_crf_accuracy: 0.9027\n",
      "5000/5000 [==============================] - 28s 6ms/step\n",
      "True: 124796, False: 49065, Acc: 0.717792\n",
      "Train on 4500 samples, validate on 500 samples\n",
      "Epoch 1/2\n",
      "4500/4500 [==============================] - 66s 15ms/step - loss: 0.1088 - crf_accuracy: 0.9007 - val_loss: 0.0961 - val_crf_accuracy: 0.9072\n",
      "Epoch 2/2\n",
      "4500/4500 [==============================] - 67s 15ms/step - loss: 0.1048 - crf_accuracy: 0.9019 - val_loss: 0.0977 - val_crf_accuracy: 0.9064\n",
      "5000/5000 [==============================] - 27s 5ms/step\n",
      "True: 126132, False: 47729, Acc: 0.725476\n",
      "Train on 4500 samples, validate on 500 samples\n",
      "Epoch 1/2\n",
      "4500/4500 [==============================] - 66s 15ms/step - loss: 0.1055 - crf_accuracy: 0.9008 - val_loss: 0.1079 - val_crf_accuracy: 0.8987\n",
      "Epoch 2/2\n",
      "4500/4500 [==============================] - 65s 15ms/step - loss: 0.1019 - crf_accuracy: 0.9026 - val_loss: 0.1060 - val_crf_accuracy: 0.8990\n",
      "5000/5000 [==============================] - 27s 5ms/step\n",
      "True: 126624, False: 47237, Acc: 0.728306\n",
      "Train on 4500 samples, validate on 500 samples\n",
      "Epoch 1/2\n",
      "4500/4500 [==============================] - 66s 15ms/step - loss: 0.0998 - crf_accuracy: 0.9026 - val_loss: 0.0838 - val_crf_accuracy: 0.9125\n",
      "Epoch 2/2\n",
      "4500/4500 [==============================] - 67s 15ms/step - loss: 0.0965 - crf_accuracy: 0.9037 - val_loss: 0.0827 - val_crf_accuracy: 0.9122\n",
      "5000/5000 [==============================] - 27s 5ms/step\n",
      "True: 126820, False: 47041, Acc: 0.729433\n",
      "Train on 4500 samples, validate on 500 samples\n",
      "Epoch 1/2\n",
      "4500/4500 [==============================] - 66s 15ms/step - loss: 0.0987 - crf_accuracy: 0.9020 - val_loss: 0.0998 - val_crf_accuracy: 0.8998\n",
      "Epoch 2/2\n",
      "4500/4500 [==============================] - 66s 15ms/step - loss: 0.0943 - crf_accuracy: 0.9031 - val_loss: 0.0958 - val_crf_accuracy: 0.9021\n",
      "5000/5000 [==============================] - 27s 5ms/step\n",
      "True: 126916, False: 46945, Acc: 0.729985\n",
      "Train on 4500 samples, validate on 500 samples\n",
      "Epoch 1/2\n",
      "4500/4500 [==============================] - 67s 15ms/step - loss: 0.0895 - crf_accuracy: 0.9045 - val_loss: 0.0950 - val_crf_accuracy: 0.9004\n",
      "Epoch 2/2\n",
      "4500/4500 [==============================] - 66s 15ms/step - loss: 0.0857 - crf_accuracy: 0.9061 - val_loss: 0.0906 - val_crf_accuracy: 0.9011\n",
      "5000/5000 [==============================] - 27s 5ms/step\n",
      "True: 124322, False: 49539, Acc: 0.715065\n",
      "Train on 4500 samples, validate on 500 samples\n",
      "Epoch 1/2\n",
      " 640/4500 [===>..........................] - ETA: 53s - loss: 0.0818 - crf_accuracy: 0.9085"
     ]
    },
    {
     "ename": "KeyboardInterrupt",
     "evalue": "",
     "output_type": "error",
     "traceback": [
      "\u001b[0;31m---------------------------------------------------------------------------\u001b[0m",
      "\u001b[0;31mKeyboardInterrupt\u001b[0m                         Traceback (most recent call last)",
      "\u001b[0;32m<ipython-input-16-84b695b0113c>\u001b[0m in \u001b[0;36m<module>\u001b[0;34m\u001b[0m\n\u001b[1;32m     23\u001b[0m         \u001b[0;32melse\u001b[0m\u001b[0;34m:\u001b[0m\u001b[0;34m\u001b[0m\u001b[0;34m\u001b[0m\u001b[0m\n\u001b[1;32m     24\u001b[0m             his = model.model.fit(np.array(trainX), np.array(trainY), batch_size=32, epochs=2, \n\u001b[0;32m---> 25\u001b[0;31m                                   validation_split=0.1)\n\u001b[0m\u001b[1;32m     26\u001b[0m             \u001b[0mhistory\u001b[0m\u001b[0;34m.\u001b[0m\u001b[0mhistory\u001b[0m\u001b[0;34m[\u001b[0m\u001b[0;34m'loss'\u001b[0m\u001b[0;34m]\u001b[0m \u001b[0;34m+=\u001b[0m \u001b[0mhis\u001b[0m\u001b[0;34m.\u001b[0m\u001b[0mhistory\u001b[0m\u001b[0;34m[\u001b[0m\u001b[0;34m'loss'\u001b[0m\u001b[0;34m]\u001b[0m\u001b[0;34m\u001b[0m\u001b[0;34m\u001b[0m\u001b[0m\n\u001b[1;32m     27\u001b[0m             \u001b[0mhistory\u001b[0m\u001b[0;34m.\u001b[0m\u001b[0mhistory\u001b[0m\u001b[0;34m[\u001b[0m\u001b[0;34m'crf_accuracy'\u001b[0m\u001b[0;34m]\u001b[0m \u001b[0;34m+=\u001b[0m \u001b[0mhis\u001b[0m\u001b[0;34m.\u001b[0m\u001b[0mhistory\u001b[0m\u001b[0;34m[\u001b[0m\u001b[0;34m'crf_accuracy'\u001b[0m\u001b[0;34m]\u001b[0m\u001b[0;34m\u001b[0m\u001b[0;34m\u001b[0m\u001b[0m\n",
      "\u001b[0;32m~/.local/lib/python3.6/site-packages/keras/engine/training.py\u001b[0m in \u001b[0;36mfit\u001b[0;34m(self, x, y, batch_size, epochs, verbose, callbacks, validation_split, validation_data, shuffle, class_weight, sample_weight, initial_epoch, steps_per_epoch, validation_steps, **kwargs)\u001b[0m\n\u001b[1;32m   1037\u001b[0m                                         \u001b[0minitial_epoch\u001b[0m\u001b[0;34m=\u001b[0m\u001b[0minitial_epoch\u001b[0m\u001b[0;34m,\u001b[0m\u001b[0;34m\u001b[0m\u001b[0;34m\u001b[0m\u001b[0m\n\u001b[1;32m   1038\u001b[0m                                         \u001b[0msteps_per_epoch\u001b[0m\u001b[0;34m=\u001b[0m\u001b[0msteps_per_epoch\u001b[0m\u001b[0;34m,\u001b[0m\u001b[0;34m\u001b[0m\u001b[0;34m\u001b[0m\u001b[0m\n\u001b[0;32m-> 1039\u001b[0;31m                                         validation_steps=validation_steps)\n\u001b[0m\u001b[1;32m   1040\u001b[0m \u001b[0;34m\u001b[0m\u001b[0m\n\u001b[1;32m   1041\u001b[0m     def evaluate(self, x=None, y=None,\n",
      "\u001b[0;32m~/.local/lib/python3.6/site-packages/keras/engine/training_arrays.py\u001b[0m in \u001b[0;36mfit_loop\u001b[0;34m(model, f, ins, out_labels, batch_size, epochs, verbose, callbacks, val_f, val_ins, shuffle, callback_metrics, initial_epoch, steps_per_epoch, validation_steps)\u001b[0m\n\u001b[1;32m    197\u001b[0m                     \u001b[0mins_batch\u001b[0m\u001b[0;34m[\u001b[0m\u001b[0mi\u001b[0m\u001b[0;34m]\u001b[0m \u001b[0;34m=\u001b[0m \u001b[0mins_batch\u001b[0m\u001b[0;34m[\u001b[0m\u001b[0mi\u001b[0m\u001b[0;34m]\u001b[0m\u001b[0;34m.\u001b[0m\u001b[0mtoarray\u001b[0m\u001b[0;34m(\u001b[0m\u001b[0;34m)\u001b[0m\u001b[0;34m\u001b[0m\u001b[0;34m\u001b[0m\u001b[0m\n\u001b[1;32m    198\u001b[0m \u001b[0;34m\u001b[0m\u001b[0m\n\u001b[0;32m--> 199\u001b[0;31m                 \u001b[0mouts\u001b[0m \u001b[0;34m=\u001b[0m \u001b[0mf\u001b[0m\u001b[0;34m(\u001b[0m\u001b[0mins_batch\u001b[0m\u001b[0;34m)\u001b[0m\u001b[0;34m\u001b[0m\u001b[0;34m\u001b[0m\u001b[0m\n\u001b[0m\u001b[1;32m    200\u001b[0m                 \u001b[0mouts\u001b[0m \u001b[0;34m=\u001b[0m \u001b[0mto_list\u001b[0m\u001b[0;34m(\u001b[0m\u001b[0mouts\u001b[0m\u001b[0;34m)\u001b[0m\u001b[0;34m\u001b[0m\u001b[0;34m\u001b[0m\u001b[0m\n\u001b[1;32m    201\u001b[0m                 \u001b[0;32mfor\u001b[0m \u001b[0ml\u001b[0m\u001b[0;34m,\u001b[0m \u001b[0mo\u001b[0m \u001b[0;32min\u001b[0m \u001b[0mzip\u001b[0m\u001b[0;34m(\u001b[0m\u001b[0mout_labels\u001b[0m\u001b[0;34m,\u001b[0m \u001b[0mouts\u001b[0m\u001b[0;34m)\u001b[0m\u001b[0;34m:\u001b[0m\u001b[0;34m\u001b[0m\u001b[0;34m\u001b[0m\u001b[0m\n",
      "\u001b[0;32m~/.local/lib/python3.6/site-packages/keras/backend/tensorflow_backend.py\u001b[0m in \u001b[0;36m__call__\u001b[0;34m(self, inputs)\u001b[0m\n\u001b[1;32m   2713\u001b[0m                 \u001b[0;32mreturn\u001b[0m \u001b[0mself\u001b[0m\u001b[0;34m.\u001b[0m\u001b[0m_legacy_call\u001b[0m\u001b[0;34m(\u001b[0m\u001b[0minputs\u001b[0m\u001b[0;34m)\u001b[0m\u001b[0;34m\u001b[0m\u001b[0;34m\u001b[0m\u001b[0m\n\u001b[1;32m   2714\u001b[0m \u001b[0;34m\u001b[0m\u001b[0m\n\u001b[0;32m-> 2715\u001b[0;31m             \u001b[0;32mreturn\u001b[0m \u001b[0mself\u001b[0m\u001b[0;34m.\u001b[0m\u001b[0m_call\u001b[0m\u001b[0;34m(\u001b[0m\u001b[0minputs\u001b[0m\u001b[0;34m)\u001b[0m\u001b[0;34m\u001b[0m\u001b[0;34m\u001b[0m\u001b[0m\n\u001b[0m\u001b[1;32m   2716\u001b[0m         \u001b[0;32melse\u001b[0m\u001b[0;34m:\u001b[0m\u001b[0;34m\u001b[0m\u001b[0;34m\u001b[0m\u001b[0m\n\u001b[1;32m   2717\u001b[0m             \u001b[0;32mif\u001b[0m \u001b[0mpy_any\u001b[0m\u001b[0;34m(\u001b[0m\u001b[0mis_tensor\u001b[0m\u001b[0;34m(\u001b[0m\u001b[0mx\u001b[0m\u001b[0;34m)\u001b[0m \u001b[0;32mfor\u001b[0m \u001b[0mx\u001b[0m \u001b[0;32min\u001b[0m \u001b[0minputs\u001b[0m\u001b[0;34m)\u001b[0m\u001b[0;34m:\u001b[0m\u001b[0;34m\u001b[0m\u001b[0;34m\u001b[0m\u001b[0m\n",
      "\u001b[0;32m~/.local/lib/python3.6/site-packages/keras/backend/tensorflow_backend.py\u001b[0m in \u001b[0;36m_call\u001b[0;34m(self, inputs)\u001b[0m\n\u001b[1;32m   2673\u001b[0m             \u001b[0mfetched\u001b[0m \u001b[0;34m=\u001b[0m \u001b[0mself\u001b[0m\u001b[0;34m.\u001b[0m\u001b[0m_callable_fn\u001b[0m\u001b[0;34m(\u001b[0m\u001b[0;34m*\u001b[0m\u001b[0marray_vals\u001b[0m\u001b[0;34m,\u001b[0m \u001b[0mrun_metadata\u001b[0m\u001b[0;34m=\u001b[0m\u001b[0mself\u001b[0m\u001b[0;34m.\u001b[0m\u001b[0mrun_metadata\u001b[0m\u001b[0;34m)\u001b[0m\u001b[0;34m\u001b[0m\u001b[0;34m\u001b[0m\u001b[0m\n\u001b[1;32m   2674\u001b[0m         \u001b[0;32melse\u001b[0m\u001b[0;34m:\u001b[0m\u001b[0;34m\u001b[0m\u001b[0;34m\u001b[0m\u001b[0m\n\u001b[0;32m-> 2675\u001b[0;31m             \u001b[0mfetched\u001b[0m \u001b[0;34m=\u001b[0m \u001b[0mself\u001b[0m\u001b[0;34m.\u001b[0m\u001b[0m_callable_fn\u001b[0m\u001b[0;34m(\u001b[0m\u001b[0;34m*\u001b[0m\u001b[0marray_vals\u001b[0m\u001b[0;34m)\u001b[0m\u001b[0;34m\u001b[0m\u001b[0;34m\u001b[0m\u001b[0m\n\u001b[0m\u001b[1;32m   2676\u001b[0m         \u001b[0;32mreturn\u001b[0m \u001b[0mfetched\u001b[0m\u001b[0;34m[\u001b[0m\u001b[0;34m:\u001b[0m\u001b[0mlen\u001b[0m\u001b[0;34m(\u001b[0m\u001b[0mself\u001b[0m\u001b[0;34m.\u001b[0m\u001b[0moutputs\u001b[0m\u001b[0;34m)\u001b[0m\u001b[0;34m]\u001b[0m\u001b[0;34m\u001b[0m\u001b[0;34m\u001b[0m\u001b[0m\n\u001b[1;32m   2677\u001b[0m \u001b[0;34m\u001b[0m\u001b[0m\n",
      "\u001b[0;32m/opt/anaconda/anaconda3/envs/tfpy3/lib/python3.6/site-packages/tensorflow/python/client/session.py\u001b[0m in \u001b[0;36m__call__\u001b[0;34m(self, *args, **kwargs)\u001b[0m\n\u001b[1;32m   1437\u001b[0m           ret = tf_session.TF_SessionRunCallable(\n\u001b[1;32m   1438\u001b[0m               \u001b[0mself\u001b[0m\u001b[0;34m.\u001b[0m\u001b[0m_session\u001b[0m\u001b[0;34m.\u001b[0m\u001b[0m_session\u001b[0m\u001b[0;34m,\u001b[0m \u001b[0mself\u001b[0m\u001b[0;34m.\u001b[0m\u001b[0m_handle\u001b[0m\u001b[0;34m,\u001b[0m \u001b[0margs\u001b[0m\u001b[0;34m,\u001b[0m \u001b[0mstatus\u001b[0m\u001b[0;34m,\u001b[0m\u001b[0;34m\u001b[0m\u001b[0;34m\u001b[0m\u001b[0m\n\u001b[0;32m-> 1439\u001b[0;31m               run_metadata_ptr)\n\u001b[0m\u001b[1;32m   1440\u001b[0m         \u001b[0;32mif\u001b[0m \u001b[0mrun_metadata\u001b[0m\u001b[0;34m:\u001b[0m\u001b[0;34m\u001b[0m\u001b[0;34m\u001b[0m\u001b[0m\n\u001b[1;32m   1441\u001b[0m           \u001b[0mproto_data\u001b[0m \u001b[0;34m=\u001b[0m \u001b[0mtf_session\u001b[0m\u001b[0;34m.\u001b[0m\u001b[0mTF_GetBuffer\u001b[0m\u001b[0;34m(\u001b[0m\u001b[0mrun_metadata_ptr\u001b[0m\u001b[0;34m)\u001b[0m\u001b[0;34m\u001b[0m\u001b[0;34m\u001b[0m\u001b[0m\n",
      "\u001b[0;31mKeyboardInterrupt\u001b[0m: "
     ]
    }
   ],
   "source": [
    "# train\n",
    "# model.model.load_weights('save_model/base_100n_1_5.h5')\n",
    "# history = None\n",
    "test_acc = []\n",
    "for i in range(3):\n",
    "    for j in range(16):\n",
    "        if j == testPickleID:\n",
    "            continue\n",
    "        trainX, trainY = get_train(j)\n",
    "        \n",
    "        '''\n",
    "        sample_weight = []\n",
    "        for sample_y in trainY: \n",
    "            single_w = []\n",
    "            for y_true in sample_y:\n",
    "                single_w.append(weight_dic[np.argmax(y_true)])\n",
    "            sample_weight.append(single_w)\n",
    "        '''\n",
    "        \n",
    "        if not history:\n",
    "            history = model.model.fit(np.array(trainX), np.array(trainY), batch_size=32, epochs=2, \n",
    "                                      validation_split=0.1)\n",
    "        else:\n",
    "            his = model.model.fit(np.array(trainX), np.array(trainY), batch_size=32, epochs=2, \n",
    "                                  validation_split=0.1)\n",
    "            history.history['loss'] += his.history['loss']\n",
    "            history.history['crf_accuracy'] += his.history['crf_accuracy']\n",
    "            history.history['val_loss'] += his.history['val_loss']\n",
    "            history.history['val_crf_accuracy'] += his.history['val_crf_accuracy']\n",
    "            \n",
    "        acc, _m, _marg = test_accuracy()\n",
    "        test_acc.append(acc)\n",
    "    fname = 'save_model/base_100nn_%d.h5' % (i+1)\n",
    "    # print('Saved to ' + fname)\n",
    "    # model.model.save_weights(fname)"
   ]
  },
  {
   "cell_type": "code",
   "execution_count": 18,
   "metadata": {},
   "outputs": [
    {
     "data": {
      "image/png": "[encoded data removed]",
      "text/plain": [
       "<Figure size 864x864 with 1 Axes>"
      ]
     },
     "metadata": {},
     "output_type": "display_data"
    }
   ],
   "source": [
    "# plot\n",
    "hist = pd.DataFrame(history.history)\n",
    "plt.style.use(\"ggplot\")\n",
    "plt.figure(figsize=(12,12))\n",
    "plt.plot(hist['crf_accuracy'])\n",
    "plt.plot(hist['val_crf_accuracy'])\n",
    "plt.plot(hist[\"loss\"])\n",
    "plt.plot(hist[\"val_loss\"])\n",
    "plt.show()"
   ]
  },
  {
   "cell_type": "code",
   "execution_count": 19,
   "metadata": {},
   "outputs": [
    {
     "data": {
      "image/png": "[encoded data removed]",
      "text/plain": [
       "<Figure size 432x288 with 1 Axes>"
      ]
     },
     "metadata": {},
     "output_type": "display_data"
    }
   ],
   "source": [
    "plt.plot(test_acc)\n",
    "plt.show()"
   ]
  },
  {
   "cell_type": "code",
   "execution_count": null,
   "metadata": {},
   "outputs": [],
   "source": [
    "model.model.load_weights('save_model/base_100n_1_5.h5')\n",
    "for i in range(16):\n",
    "    trainX, trainY = get_train(i)\n",
    "    acc, _m, _marg = test_accuracy(trainX, trainY)\n",
    "    print(i, acc, _m, _marg)"
   ]
  },
  {
   "cell_type": "code",
   "execution_count": null,
   "metadata": {},
   "outputs": [],
   "source": [
    "print(train_texts[6729], train_tags[6729])"
   ]
  },
  {
   "cell_type": "code",
   "execution_count": null,
   "metadata": {},
   "outputs": [],
   "source": [
    "with open('save_model/example_1.txt', 'w') as f:\n",
    "    for line in train_texts[1315]:\n",
    "        f.write(line + '\\n')"
   ]
  },
  {
   "cell_type": "code",
   "execution_count": null,
   "metadata": {},
   "outputs": [],
   "source": []
  }
 ],
 "metadata": {
  "kernelspec": {
   "display_name": "tfpy3",
   "language": "python",
   "name": "tfpy3"
  },
  "language_info": {
   "codemirror_mode": {
    "name": "ipython",
    "version": 3
   },
   "file_extension": ".py",
   "mimetype": "text/x-python",
   "name": "python",
   "nbconvert_exporter": "python",
   "pygments_lexer": "ipython3",
   "version": "3.6.8"
  }
 },
 "nbformat": 4,
 "nbformat_minor": 2
}
